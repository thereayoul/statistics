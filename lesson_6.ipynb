{
 "cells": [
  {
   "cell_type": "code",
   "execution_count": 1,
   "metadata": {},
   "outputs": [
    {
     "name": "stderr",
     "output_type": "stream",
     "text": [
      "/opt/tljh/user/lib/python3.7/site-packages/outdated/utils.py:18: OutdatedPackageWarning: The package pingouin is out of date. Your version is 0.4.0, the latest is 0.5.2.\n",
      "Set the environment variable OUTDATED_IGNORE=1 to disable these warnings.\n",
      "  **kwargs\n",
      "/opt/tljh/user/lib/python3.7/site-packages/outdated/utils.py:18: OutdatedCacheFailedWarning: Failed to use cache while checking for outdated package.\n",
      "Set the environment variable OUTDATED_RAISE_EXCEPTION=1 for a full traceback.\n",
      "Set the environment variable OUTDATED_IGNORE=1 to disable these warnings.\n",
      "  **kwargs\n",
      "/opt/tljh/user/lib/python3.7/site-packages/outdated/utils.py:18: OutdatedPackageWarning: The package outdated is out of date. Your version is 0.2.1, the latest is 0.2.2.\n",
      "Set the environment variable OUTDATED_IGNORE=1 to disable these warnings.\n",
      "  **kwargs\n"
     ]
    }
   ],
   "source": [
    "import pandas as pd\n",
    "import numpy as np\n",
    "\n",
    "import scipy.stats as ss\n",
    "import statsmodels.api as sm\n",
    "import statsmodels.formula.api as smf\n",
    "from statsmodels.stats.api import anova_lm\n",
    "from statsmodels.stats.multicomp import (pairwise_tukeyhsd,\n",
    "                                         MultiComparison)\n",
    "import pingouin as pg\n",
    "\n",
    "import matplotlib.pyplot as plt\n",
    "import seaborn as sns"
   ]
  },
  {
   "cell_type": "code",
   "execution_count": null,
   "metadata": {},
   "outputs": [],
   "source": [
    "import numpy as np\n",
    "import scipy.stats as st\n",
    "import pandas as pd\n",
    "\n",
    "# через numpy (только Пирсона, без p-значений)\n",
    "np.corrcoef(x, y)  # y опционален, можно дать массив с несколькими колонками, функция строит матрицу корреляций\n",
    "\n",
    "# через scipy (даёт значение коэффициента корреляции и p-значение)\n",
    "st.pearsonr(x, y) \n",
    "st.spearmanr(x, y)\n",
    "st.kendalltau(x, y) \n",
    "\n",
    "# через pandas (сравнение pandas Series)\n",
    "df.corr()\n",
    "df.corr(method='spearman')\n",
    "df.corr(method='kendall')\n"
   ]
  },
  {
   "cell_type": "code",
   "execution_count": null,
   "metadata": {},
   "outputs": [],
   "source": [
    "# визуализация\n",
    "sns.set(style='whitegrid', rc={'figure.figsize' : (10,5)}) \n",
    "\n",
    "sns.scatterplot(x = 'sepal_length', y = 'sepal_width', data = iris)\n",
    "plt.title('Взаимосвязь измерений чашелистников ирисов')\n",
    "plt.xlabel('Длина чашелистника')\n",
    "plt.ylabel('Ширина чашелистника')"
   ]
  },
  {
   "cell_type": "code",
   "execution_count": null,
   "metadata": {},
   "outputs": [],
   "source": [
    "from scipy import stats\n",
    "import statsmodels.api as sm\n",
    "\n",
    "# через scipy (только одномерная)\n",
    "stats.linregress(x, y)\n",
    "\n",
    "# через statsmodels (один из вариантов)\n",
    "# Y = одномерный массив с ЗП, X - массив с НП\n",
    "\n",
    "X = sm.add_constant(X)  # добавить константу, чтобы был свободный член\n",
    "model = sm.OLS(Y, X)  # говорим модели, что у нас ЗП, а что НП\n",
    "results = model.fit()  # строим регрессионную прямую\n",
    "print(results.summary())  # смотрим результат\n",
    "\n"
   ]
  },
  {
   "cell_type": "code",
   "execution_count": null,
   "metadata": {},
   "outputs": [],
   "source": [
    "# то же самое можно через формулу\n",
    "import statsmodels.formula.api as smf \n",
    "\n",
    "results = smf.ols('Y ~ X', data).fit()\n",
    "print(results.summary())\n"
   ]
  },
  {
   "cell_type": "code",
   "execution_count": null,
   "metadata": {},
   "outputs": [],
   "source": [
    "# визуализация регрессии\n",
    "sns.set(style='whitegrid', rc={'figure.figsize' : (10,5)}) \n",
    "sns.regplot(x = 'sepal_length', y = 'sepal_width', data = iris)\n",
    "plt.title('Взаимосвязь измерений чашелистников ирисов')\n",
    "plt.xlabel('Длина чашелистника')\n",
    "plt.ylabel('Ширина чашелистника')"
   ]
  }
 ],
 "metadata": {
  "kernelspec": {
   "display_name": "Python 3",
   "language": "python",
   "name": "python3"
  },
  "language_info": {
   "codemirror_mode": {
    "name": "ipython",
    "version": 3
   },
   "file_extension": ".py",
   "mimetype": "text/x-python",
   "name": "python",
   "nbconvert_exporter": "python",
   "pygments_lexer": "ipython3",
   "version": "3.7.3"
  }
 },
 "nbformat": 4,
 "nbformat_minor": 4
}
